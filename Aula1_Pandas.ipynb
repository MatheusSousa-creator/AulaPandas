{
  "nbformat": 4,
  "nbformat_minor": 0,
  "metadata": {
    "colab": {
      "name": "Aula1_Pandas.ipynb",
      "provenance": [],
      "mount_file_id": "1PKQf91gAK4o56DTjLRvZuybcQrkOb955",
      "authorship_tag": "ABX9TyN+DZcoj6DRlRCV931FnZsM",
      "include_colab_link": true
    },
    "kernelspec": {
      "name": "python3",
      "display_name": "Python 3"
    },
    "language_info": {
      "name": "python"
    }
  },
  "cells": [
    {
      "cell_type": "markdown",
      "metadata": {
        "id": "view-in-github",
        "colab_type": "text"
      },
      "source": [
        "<a href=\"https://colab.research.google.com/github/MatheusSousa-creator/aula_javascript/blob/master/Aula1_Pandas.ipynb\" target=\"_parent\"><img src=\"https://colab.research.google.com/assets/colab-badge.svg\" alt=\"Open In Colab\"/></a>"
      ]
    },
    {
      "cell_type": "code",
      "metadata": {
        "id": "dtRJzpt1sKeC"
      },
      "source": [
        "#importando a biblioteca pandas\n",
        "import pandas as pd"
      ],
      "execution_count": null,
      "outputs": []
    },
    {
      "cell_type": "code",
      "metadata": {
        "id": "uyo-jVD5s27z"
      },
      "source": [
        "df = pd.read_csv(\"/content/drive/MyDrive/Datasets/DadosPaisesAmericasNorteSul - DadosPaisesAmericasNorteSul.csv\")"
      ],
      "execution_count": null,
      "outputs": []
    },
    {
      "cell_type": "code",
      "metadata": {
        "id": "VEscO2Qav_ns"
      },
      "source": [
        "#visulizando as 5 primeiras linhas"
      ],
      "execution_count": null,
      "outputs": []
    },
    {
      "cell_type": "code",
      "metadata": {
        "colab": {
          "base_uri": "https://localhost:8080/",
          "height": 204
        },
        "id": "rADWYXKtwDqU",
        "outputId": "5ad0714e-cdcb-4be0-d0c4-e41456831282"
      },
      "source": [
        "df.head()"
      ],
      "execution_count": null,
      "outputs": [
        {
          "output_type": "execute_result",
          "data": {
            "text/html": [
              "<div>\n",
              "<style scoped>\n",
              "    .dataframe tbody tr th:only-of-type {\n",
              "        vertical-align: middle;\n",
              "    }\n",
              "\n",
              "    .dataframe tbody tr th {\n",
              "        vertical-align: top;\n",
              "    }\n",
              "\n",
              "    .dataframe thead th {\n",
              "        text-align: right;\n",
              "    }\n",
              "</style>\n",
              "<table border=\"1\" class=\"dataframe\">\n",
              "  <thead>\n",
              "    <tr style=\"text-align: right;\">\n",
              "      <th></th>\n",
              "      <th>Pais</th>\n",
              "      <th>Continente</th>\n",
              "      <th>Idioma</th>\n",
              "      <th>População</th>\n",
              "      <th>Ano</th>\n",
              "    </tr>\n",
              "  </thead>\n",
              "  <tbody>\n",
              "    <tr>\n",
              "      <th>0</th>\n",
              "      <td>Argentina</td>\n",
              "      <td>América do Sul</td>\n",
              "      <td>Espanhol</td>\n",
              "      <td>45195774.0</td>\n",
              "      <td>2020</td>\n",
              "    </tr>\n",
              "    <tr>\n",
              "      <th>1</th>\n",
              "      <td>Bolívia</td>\n",
              "      <td>América do Sul</td>\n",
              "      <td>Espanhol</td>\n",
              "      <td>11673054.0</td>\n",
              "      <td>2020</td>\n",
              "    </tr>\n",
              "    <tr>\n",
              "      <th>2</th>\n",
              "      <td>Brasil</td>\n",
              "      <td>América do Sul</td>\n",
              "      <td>Português</td>\n",
              "      <td>212559426.0</td>\n",
              "      <td>2020</td>\n",
              "    </tr>\n",
              "    <tr>\n",
              "      <th>3</th>\n",
              "      <td>Canadá</td>\n",
              "      <td>América do Norte</td>\n",
              "      <td>Inglês/Francês</td>\n",
              "      <td>37590000.0</td>\n",
              "      <td>2020</td>\n",
              "    </tr>\n",
              "    <tr>\n",
              "      <th>4</th>\n",
              "      <td>Chile</td>\n",
              "      <td>América do Sul</td>\n",
              "      <td>Espanhol</td>\n",
              "      <td>19116201.0</td>\n",
              "      <td>2020</td>\n",
              "    </tr>\n",
              "  </tbody>\n",
              "</table>\n",
              "</div>"
            ],
            "text/plain": [
              "        Pais        Continente          Idioma    População   Ano\n",
              "0  Argentina    América do Sul        Espanhol   45195774.0  2020\n",
              "1    Bolívia    América do Sul        Espanhol   11673054.0  2020\n",
              "2     Brasil    América do Sul       Português  212559426.0  2020\n",
              "3     Canadá  América do Norte  Inglês/Francês   37590000.0  2020\n",
              "4      Chile    América do Sul        Espanhol   19116201.0  2020"
            ]
          },
          "metadata": {},
          "execution_count": 22
        }
      ]
    },
    {
      "cell_type": "code",
      "metadata": {
        "id": "cxLJApUiwKfo"
      },
      "source": [
        "df = df.rename(columns={\"Pais\":\"Country\"})"
      ],
      "execution_count": null,
      "outputs": []
    },
    {
      "cell_type": "code",
      "metadata": {
        "colab": {
          "base_uri": "https://localhost:8080/",
          "height": 359
        },
        "id": "gWOAe0vq1K0e",
        "outputId": "33672559-bd76-49f8-b129-f078a363ac02"
      },
      "source": [
        "df.head(10)"
      ],
      "execution_count": null,
      "outputs": [
        {
          "output_type": "execute_result",
          "data": {
            "text/html": [
              "<div>\n",
              "<style scoped>\n",
              "    .dataframe tbody tr th:only-of-type {\n",
              "        vertical-align: middle;\n",
              "    }\n",
              "\n",
              "    .dataframe tbody tr th {\n",
              "        vertical-align: top;\n",
              "    }\n",
              "\n",
              "    .dataframe thead th {\n",
              "        text-align: right;\n",
              "    }\n",
              "</style>\n",
              "<table border=\"1\" class=\"dataframe\">\n",
              "  <thead>\n",
              "    <tr style=\"text-align: right;\">\n",
              "      <th></th>\n",
              "      <th>Country</th>\n",
              "      <th>Continente</th>\n",
              "      <th>Idioma</th>\n",
              "      <th>População</th>\n",
              "      <th>Ano</th>\n",
              "    </tr>\n",
              "  </thead>\n",
              "  <tbody>\n",
              "    <tr>\n",
              "      <th>0</th>\n",
              "      <td>Argentina</td>\n",
              "      <td>América do Sul</td>\n",
              "      <td>Espanhol</td>\n",
              "      <td>44938712.0</td>\n",
              "      <td>2019</td>\n",
              "    </tr>\n",
              "    <tr>\n",
              "      <th>1</th>\n",
              "      <td>Argentina</td>\n",
              "      <td>América do Sul</td>\n",
              "      <td>Espanhol</td>\n",
              "      <td>45195774.0</td>\n",
              "      <td>2020</td>\n",
              "    </tr>\n",
              "    <tr>\n",
              "      <th>2</th>\n",
              "      <td>Bolívia</td>\n",
              "      <td>América do Sul</td>\n",
              "      <td>Espanhol</td>\n",
              "      <td>11469896.0</td>\n",
              "      <td>2019</td>\n",
              "    </tr>\n",
              "    <tr>\n",
              "      <th>3</th>\n",
              "      <td>Bolívia</td>\n",
              "      <td>América do Sul</td>\n",
              "      <td>Espanhol</td>\n",
              "      <td>11673054.0</td>\n",
              "      <td>2020</td>\n",
              "    </tr>\n",
              "    <tr>\n",
              "      <th>4</th>\n",
              "      <td>Brasil</td>\n",
              "      <td>América do Sul</td>\n",
              "      <td>Português</td>\n",
              "      <td>210147125.0</td>\n",
              "      <td>2019</td>\n",
              "    </tr>\n",
              "    <tr>\n",
              "      <th>5</th>\n",
              "      <td>Brasil</td>\n",
              "      <td>América do Sul</td>\n",
              "      <td>Português</td>\n",
              "      <td>212559426.0</td>\n",
              "      <td>2020</td>\n",
              "    </tr>\n",
              "    <tr>\n",
              "      <th>6</th>\n",
              "      <td>Canadá</td>\n",
              "      <td>América do Norte</td>\n",
              "      <td>Inglês/Francês</td>\n",
              "      <td>37244181.0</td>\n",
              "      <td>2019</td>\n",
              "    </tr>\n",
              "    <tr>\n",
              "      <th>7</th>\n",
              "      <td>Canadá</td>\n",
              "      <td>América do Norte</td>\n",
              "      <td>Inglês/Francês</td>\n",
              "      <td>37577502.0</td>\n",
              "      <td>2020</td>\n",
              "    </tr>\n",
              "    <tr>\n",
              "      <th>8</th>\n",
              "      <td>Chile</td>\n",
              "      <td>América do Sul</td>\n",
              "      <td>Espanhol</td>\n",
              "      <td>19107216.0</td>\n",
              "      <td>2019</td>\n",
              "    </tr>\n",
              "    <tr>\n",
              "      <th>9</th>\n",
              "      <td>Chile</td>\n",
              "      <td>América do Sul</td>\n",
              "      <td>Espanhol</td>\n",
              "      <td>19116201.0</td>\n",
              "      <td>2020</td>\n",
              "    </tr>\n",
              "  </tbody>\n",
              "</table>\n",
              "</div>"
            ],
            "text/plain": [
              "     Country        Continente          Idioma    População   Ano\n",
              "0  Argentina    América do Sul        Espanhol   44938712.0  2019\n",
              "1  Argentina    América do Sul        Espanhol   45195774.0  2020\n",
              "2    Bolívia    América do Sul        Espanhol   11469896.0  2019\n",
              "3    Bolívia    América do Sul        Espanhol   11673054.0  2020\n",
              "4     Brasil    América do Sul       Português  210147125.0  2019\n",
              "5     Brasil    América do Sul       Português  212559426.0  2020\n",
              "6     Canadá  América do Norte  Inglês/Francês   37244181.0  2019\n",
              "7     Canadá  América do Norte  Inglês/Francês   37577502.0  2020\n",
              "8      Chile    América do Sul        Espanhol   19107216.0  2019\n",
              "9      Chile    América do Sul        Espanhol   19116201.0  2020"
            ]
          },
          "metadata": {},
          "execution_count": 12
        }
      ]
    },
    {
      "cell_type": "code",
      "metadata": {
        "id": "uiRWjS-a1nCa"
      },
      "source": [
        "df = df.rename(columns={\"Country\":\"Pais\"})"
      ],
      "execution_count": null,
      "outputs": []
    },
    {
      "cell_type": "code",
      "metadata": {
        "colab": {
          "base_uri": "https://localhost:8080/",
          "height": 979
        },
        "id": "VXVR4OS816BE",
        "outputId": "b09f301d-fd5e-41fd-e61b-ac1539714faa"
      },
      "source": [
        "df.head(30)"
      ],
      "execution_count": null,
      "outputs": [
        {
          "output_type": "execute_result",
          "data": {
            "text/html": [
              "<div>\n",
              "<style scoped>\n",
              "    .dataframe tbody tr th:only-of-type {\n",
              "        vertical-align: middle;\n",
              "    }\n",
              "\n",
              "    .dataframe tbody tr th {\n",
              "        vertical-align: top;\n",
              "    }\n",
              "\n",
              "    .dataframe thead th {\n",
              "        text-align: right;\n",
              "    }\n",
              "</style>\n",
              "<table border=\"1\" class=\"dataframe\">\n",
              "  <thead>\n",
              "    <tr style=\"text-align: right;\">\n",
              "      <th></th>\n",
              "      <th>Pais</th>\n",
              "      <th>Continente</th>\n",
              "      <th>Idioma</th>\n",
              "      <th>População</th>\n",
              "      <th>Ano</th>\n",
              "    </tr>\n",
              "  </thead>\n",
              "  <tbody>\n",
              "    <tr>\n",
              "      <th>0</th>\n",
              "      <td>Argentina</td>\n",
              "      <td>América do Sul</td>\n",
              "      <td>Espanhol</td>\n",
              "      <td>4.493871e+07</td>\n",
              "      <td>2019</td>\n",
              "    </tr>\n",
              "    <tr>\n",
              "      <th>1</th>\n",
              "      <td>Argentina</td>\n",
              "      <td>América do Sul</td>\n",
              "      <td>Espanhol</td>\n",
              "      <td>4.519577e+07</td>\n",
              "      <td>2020</td>\n",
              "    </tr>\n",
              "    <tr>\n",
              "      <th>2</th>\n",
              "      <td>Bolívia</td>\n",
              "      <td>América do Sul</td>\n",
              "      <td>Espanhol</td>\n",
              "      <td>1.146990e+07</td>\n",
              "      <td>2019</td>\n",
              "    </tr>\n",
              "    <tr>\n",
              "      <th>3</th>\n",
              "      <td>Bolívia</td>\n",
              "      <td>América do Sul</td>\n",
              "      <td>Espanhol</td>\n",
              "      <td>1.167305e+07</td>\n",
              "      <td>2020</td>\n",
              "    </tr>\n",
              "    <tr>\n",
              "      <th>4</th>\n",
              "      <td>Brasil</td>\n",
              "      <td>América do Sul</td>\n",
              "      <td>Português</td>\n",
              "      <td>2.101471e+08</td>\n",
              "      <td>2019</td>\n",
              "    </tr>\n",
              "    <tr>\n",
              "      <th>5</th>\n",
              "      <td>Brasil</td>\n",
              "      <td>América do Sul</td>\n",
              "      <td>Português</td>\n",
              "      <td>2.125594e+08</td>\n",
              "      <td>2020</td>\n",
              "    </tr>\n",
              "    <tr>\n",
              "      <th>6</th>\n",
              "      <td>Canadá</td>\n",
              "      <td>América do Norte</td>\n",
              "      <td>Inglês/Francês</td>\n",
              "      <td>3.724418e+07</td>\n",
              "      <td>2019</td>\n",
              "    </tr>\n",
              "    <tr>\n",
              "      <th>7</th>\n",
              "      <td>Canadá</td>\n",
              "      <td>América do Norte</td>\n",
              "      <td>Inglês/Francês</td>\n",
              "      <td>3.757750e+07</td>\n",
              "      <td>2020</td>\n",
              "    </tr>\n",
              "    <tr>\n",
              "      <th>8</th>\n",
              "      <td>Chile</td>\n",
              "      <td>América do Sul</td>\n",
              "      <td>Espanhol</td>\n",
              "      <td>1.910722e+07</td>\n",
              "      <td>2019</td>\n",
              "    </tr>\n",
              "    <tr>\n",
              "      <th>9</th>\n",
              "      <td>Chile</td>\n",
              "      <td>América do Sul</td>\n",
              "      <td>Espanhol</td>\n",
              "      <td>1.911620e+07</td>\n",
              "      <td>2020</td>\n",
              "    </tr>\n",
              "    <tr>\n",
              "      <th>10</th>\n",
              "      <td>Colômbia</td>\n",
              "      <td>América do Sul</td>\n",
              "      <td>Espanhol</td>\n",
              "      <td>4.573300e+07</td>\n",
              "      <td>2019</td>\n",
              "    </tr>\n",
              "    <tr>\n",
              "      <th>11</th>\n",
              "      <td>Colômbia</td>\n",
              "      <td>América do Sul</td>\n",
              "      <td>Espanhol</td>\n",
              "      <td>5.088289e+07</td>\n",
              "      <td>2020</td>\n",
              "    </tr>\n",
              "    <tr>\n",
              "      <th>12</th>\n",
              "      <td>Equador</td>\n",
              "      <td>América do Sul</td>\n",
              "      <td>Espanhol</td>\n",
              "      <td>1.720120e+07</td>\n",
              "      <td>2019</td>\n",
              "    </tr>\n",
              "    <tr>\n",
              "      <th>13</th>\n",
              "      <td>Equador</td>\n",
              "      <td>América do Sul</td>\n",
              "      <td>Espanhol</td>\n",
              "      <td>1.764305e+07</td>\n",
              "      <td>2020</td>\n",
              "    </tr>\n",
              "    <tr>\n",
              "      <th>14</th>\n",
              "      <td>Estados Unidos</td>\n",
              "      <td>América do Norte</td>\n",
              "      <td>Inglês</td>\n",
              "      <td>3.282000e+08</td>\n",
              "      <td>2019</td>\n",
              "    </tr>\n",
              "    <tr>\n",
              "      <th>15</th>\n",
              "      <td>Estados Unidos</td>\n",
              "      <td>América do Norte</td>\n",
              "      <td>Inglês</td>\n",
              "      <td>3.314493e+08</td>\n",
              "      <td>2020</td>\n",
              "    </tr>\n",
              "    <tr>\n",
              "      <th>16</th>\n",
              "      <td>Guiana</td>\n",
              "      <td>América do Sul</td>\n",
              "      <td>Inglês</td>\n",
              "      <td>7.865080e+05</td>\n",
              "      <td>2019</td>\n",
              "    </tr>\n",
              "    <tr>\n",
              "      <th>17</th>\n",
              "      <td>Guiana</td>\n",
              "      <td>América do Sul</td>\n",
              "      <td>Inglês</td>\n",
              "      <td>7.865520e+02</td>\n",
              "      <td>2020</td>\n",
              "    </tr>\n",
              "    <tr>\n",
              "      <th>18</th>\n",
              "      <td>México</td>\n",
              "      <td>América do Norte</td>\n",
              "      <td>Espanhol</td>\n",
              "      <td>1.260000e+08</td>\n",
              "      <td>2019</td>\n",
              "    </tr>\n",
              "    <tr>\n",
              "      <th>19</th>\n",
              "      <td>México</td>\n",
              "      <td>América do Norte</td>\n",
              "      <td>Espanhol</td>\n",
              "      <td>1.276000e+08</td>\n",
              "      <td>2020</td>\n",
              "    </tr>\n",
              "    <tr>\n",
              "      <th>20</th>\n",
              "      <td>Paraguai</td>\n",
              "      <td>América do Sul</td>\n",
              "      <td>Espanhol</td>\n",
              "      <td>7.152703e+06</td>\n",
              "      <td>2019</td>\n",
              "    </tr>\n",
              "    <tr>\n",
              "      <th>21</th>\n",
              "      <td>Paraguai</td>\n",
              "      <td>América do Sul</td>\n",
              "      <td>Espanhol</td>\n",
              "      <td>7.132538e+06</td>\n",
              "      <td>2020</td>\n",
              "    </tr>\n",
              "    <tr>\n",
              "      <th>22</th>\n",
              "      <td>Peru</td>\n",
              "      <td>América do Sul</td>\n",
              "      <td>Espanhol</td>\n",
              "      <td>3.249551e+07</td>\n",
              "      <td>2019</td>\n",
              "    </tr>\n",
              "    <tr>\n",
              "      <th>23</th>\n",
              "      <td>Peru</td>\n",
              "      <td>América do Sul</td>\n",
              "      <td>Espanhol</td>\n",
              "      <td>3.305032e+07</td>\n",
              "      <td>2020</td>\n",
              "    </tr>\n",
              "    <tr>\n",
              "      <th>24</th>\n",
              "      <td>Suriname</td>\n",
              "      <td>América do Sul</td>\n",
              "      <td>Holandês</td>\n",
              "      <td>5.730850e+05</td>\n",
              "      <td>2019</td>\n",
              "    </tr>\n",
              "    <tr>\n",
              "      <th>25</th>\n",
              "      <td>Suriname</td>\n",
              "      <td>América do Sul</td>\n",
              "      <td>Holandês</td>\n",
              "      <td>5.885520e+02</td>\n",
              "      <td>2020</td>\n",
              "    </tr>\n",
              "    <tr>\n",
              "      <th>26</th>\n",
              "      <td>Uruguai</td>\n",
              "      <td>América do Sul</td>\n",
              "      <td>Espanhol</td>\n",
              "      <td>3.528867e+06</td>\n",
              "      <td>2019</td>\n",
              "    </tr>\n",
              "    <tr>\n",
              "      <th>27</th>\n",
              "      <td>Uruguai</td>\n",
              "      <td>América do Sul</td>\n",
              "      <td>Espanhol</td>\n",
              "      <td>3.473730e+06</td>\n",
              "      <td>2020</td>\n",
              "    </tr>\n",
              "    <tr>\n",
              "      <th>28</th>\n",
              "      <td>Venezuela</td>\n",
              "      <td>América do Sul</td>\n",
              "      <td>Espanhol</td>\n",
              "      <td>3.221952e+07</td>\n",
              "      <td>2019</td>\n",
              "    </tr>\n",
              "    <tr>\n",
              "      <th>29</th>\n",
              "      <td>Venezuela</td>\n",
              "      <td>América do Sul</td>\n",
              "      <td>Espanhol</td>\n",
              "      <td>2.843594e+07</td>\n",
              "      <td>2020</td>\n",
              "    </tr>\n",
              "  </tbody>\n",
              "</table>\n",
              "</div>"
            ],
            "text/plain": [
              "              Pais        Continente          Idioma     População   Ano\n",
              "0        Argentina    América do Sul        Espanhol  4.493871e+07  2019\n",
              "1        Argentina    América do Sul        Espanhol  4.519577e+07  2020\n",
              "2          Bolívia    América do Sul        Espanhol  1.146990e+07  2019\n",
              "3          Bolívia    América do Sul        Espanhol  1.167305e+07  2020\n",
              "4           Brasil    América do Sul       Português  2.101471e+08  2019\n",
              "5           Brasil    América do Sul       Português  2.125594e+08  2020\n",
              "6           Canadá  América do Norte  Inglês/Francês  3.724418e+07  2019\n",
              "7           Canadá  América do Norte  Inglês/Francês  3.757750e+07  2020\n",
              "8            Chile    América do Sul        Espanhol  1.910722e+07  2019\n",
              "9            Chile    América do Sul        Espanhol  1.911620e+07  2020\n",
              "10        Colômbia    América do Sul        Espanhol  4.573300e+07  2019\n",
              "11        Colômbia    América do Sul        Espanhol  5.088289e+07  2020\n",
              "12         Equador    América do Sul        Espanhol  1.720120e+07  2019\n",
              "13         Equador    América do Sul        Espanhol  1.764305e+07  2020\n",
              "14  Estados Unidos  América do Norte          Inglês  3.282000e+08  2019\n",
              "15  Estados Unidos  América do Norte          Inglês  3.314493e+08  2020\n",
              "16          Guiana    América do Sul          Inglês  7.865080e+05  2019\n",
              "17          Guiana    América do Sul          Inglês  7.865520e+02  2020\n",
              "18          México  América do Norte        Espanhol  1.260000e+08  2019\n",
              "19          México  América do Norte        Espanhol  1.276000e+08  2020\n",
              "20        Paraguai    América do Sul        Espanhol  7.152703e+06  2019\n",
              "21        Paraguai    América do Sul        Espanhol  7.132538e+06  2020\n",
              "22            Peru    América do Sul        Espanhol  3.249551e+07  2019\n",
              "23            Peru    América do Sul        Espanhol  3.305032e+07  2020\n",
              "24        Suriname    América do Sul        Holandês  5.730850e+05  2019\n",
              "25        Suriname    América do Sul        Holandês  5.885520e+02  2020\n",
              "26         Uruguai    América do Sul        Espanhol  3.528867e+06  2019\n",
              "27         Uruguai    América do Sul        Espanhol  3.473730e+06  2020\n",
              "28       Venezuela    América do Sul        Espanhol  3.221952e+07  2019\n",
              "29       Venezuela    América do Sul        Espanhol  2.843594e+07  2020"
            ]
          },
          "metadata": {},
          "execution_count": 14
        }
      ]
    },
    {
      "cell_type": "code",
      "metadata": {
        "colab": {
          "base_uri": "https://localhost:8080/"
        },
        "id": "g8e49iBw1rHX",
        "outputId": "e24830fe-af80-41b9-cb91-d082733e0c6c"
      },
      "source": [
        "df.shape"
      ],
      "execution_count": null,
      "outputs": [
        {
          "output_type": "execute_result",
          "data": {
            "text/plain": [
              "(30, 5)"
            ]
          },
          "metadata": {},
          "execution_count": 98
        }
      ]
    },
    {
      "cell_type": "code",
      "metadata": {
        "colab": {
          "base_uri": "https://localhost:8080/"
        },
        "id": "lh_Q9zkn10O-",
        "outputId": "0305712a-c2a8-4f39-e468-9b8c02bd2e02"
      },
      "source": [
        "df.columns"
      ],
      "execution_count": null,
      "outputs": [
        {
          "output_type": "execute_result",
          "data": {
            "text/plain": [
              "Index(['Pais', 'Continente', 'Idioma', 'População', 'Ano'], dtype='object')"
            ]
          },
          "metadata": {},
          "execution_count": 15
        }
      ]
    },
    {
      "cell_type": "code",
      "metadata": {
        "colab": {
          "base_uri": "https://localhost:8080/"
        },
        "id": "RSNTlYwh2BJx",
        "outputId": "52908f40-eacd-4c4e-de61-7f9fb1cb8ffa"
      },
      "source": [
        "df.dtypes"
      ],
      "execution_count": null,
      "outputs": [
        {
          "output_type": "execute_result",
          "data": {
            "text/plain": [
              "Pais           object\n",
              "Continente     object\n",
              "Idioma         object\n",
              "População     float64\n",
              "Ano             int64\n",
              "dtype: object"
            ]
          },
          "metadata": {},
          "execution_count": 16
        }
      ]
    },
    {
      "cell_type": "code",
      "metadata": {
        "colab": {
          "base_uri": "https://localhost:8080/",
          "height": 204
        },
        "id": "bOkkGnUI2F1G",
        "outputId": "63d8f791-17a0-45ad-ad7d-86ed77982574"
      },
      "source": [
        "df.tail()"
      ],
      "execution_count": null,
      "outputs": [
        {
          "output_type": "execute_result",
          "data": {
            "text/html": [
              "<div>\n",
              "<style scoped>\n",
              "    .dataframe tbody tr th:only-of-type {\n",
              "        vertical-align: middle;\n",
              "    }\n",
              "\n",
              "    .dataframe tbody tr th {\n",
              "        vertical-align: top;\n",
              "    }\n",
              "\n",
              "    .dataframe thead th {\n",
              "        text-align: right;\n",
              "    }\n",
              "</style>\n",
              "<table border=\"1\" class=\"dataframe\">\n",
              "  <thead>\n",
              "    <tr style=\"text-align: right;\">\n",
              "      <th></th>\n",
              "      <th>Pais</th>\n",
              "      <th>Continente</th>\n",
              "      <th>Idioma</th>\n",
              "      <th>População</th>\n",
              "      <th>Ano</th>\n",
              "    </tr>\n",
              "  </thead>\n",
              "  <tbody>\n",
              "    <tr>\n",
              "      <th>25</th>\n",
              "      <td>Suriname</td>\n",
              "      <td>América do Sul</td>\n",
              "      <td>Holandês</td>\n",
              "      <td>5.885520e+02</td>\n",
              "      <td>2020</td>\n",
              "    </tr>\n",
              "    <tr>\n",
              "      <th>26</th>\n",
              "      <td>Uruguai</td>\n",
              "      <td>América do Sul</td>\n",
              "      <td>Espanhol</td>\n",
              "      <td>3.528867e+06</td>\n",
              "      <td>2019</td>\n",
              "    </tr>\n",
              "    <tr>\n",
              "      <th>27</th>\n",
              "      <td>Uruguai</td>\n",
              "      <td>América do Sul</td>\n",
              "      <td>Espanhol</td>\n",
              "      <td>3.473730e+06</td>\n",
              "      <td>2020</td>\n",
              "    </tr>\n",
              "    <tr>\n",
              "      <th>28</th>\n",
              "      <td>Venezuela</td>\n",
              "      <td>América do Sul</td>\n",
              "      <td>Espanhol</td>\n",
              "      <td>3.221952e+07</td>\n",
              "      <td>2019</td>\n",
              "    </tr>\n",
              "    <tr>\n",
              "      <th>29</th>\n",
              "      <td>Venezuela</td>\n",
              "      <td>América do Sul</td>\n",
              "      <td>Espanhol</td>\n",
              "      <td>2.843594e+07</td>\n",
              "      <td>2020</td>\n",
              "    </tr>\n",
              "  </tbody>\n",
              "</table>\n",
              "</div>"
            ],
            "text/plain": [
              "         Pais      Continente    Idioma     População   Ano\n",
              "25   Suriname  América do Sul  Holandês  5.885520e+02  2020\n",
              "26    Uruguai  América do Sul  Espanhol  3.528867e+06  2019\n",
              "27    Uruguai  América do Sul  Espanhol  3.473730e+06  2020\n",
              "28  Venezuela  América do Sul  Espanhol  3.221952e+07  2019\n",
              "29  Venezuela  América do Sul  Espanhol  2.843594e+07  2020"
            ]
          },
          "metadata": {},
          "execution_count": 17
        }
      ]
    },
    {
      "cell_type": "code",
      "metadata": {
        "colab": {
          "base_uri": "https://localhost:8080/",
          "height": 297
        },
        "id": "wIkQzpOS69ZD",
        "outputId": "b2b4e20c-dcd4-45ef-bb5b-b82340bc672f"
      },
      "source": [
        "df.describe()"
      ],
      "execution_count": null,
      "outputs": [
        {
          "output_type": "execute_result",
          "data": {
            "text/html": [
              "<div>\n",
              "<style scoped>\n",
              "    .dataframe tbody tr th:only-of-type {\n",
              "        vertical-align: middle;\n",
              "    }\n",
              "\n",
              "    .dataframe tbody tr th {\n",
              "        vertical-align: top;\n",
              "    }\n",
              "\n",
              "    .dataframe thead th {\n",
              "        text-align: right;\n",
              "    }\n",
              "</style>\n",
              "<table border=\"1\" class=\"dataframe\">\n",
              "  <thead>\n",
              "    <tr style=\"text-align: right;\">\n",
              "      <th></th>\n",
              "      <th>População</th>\n",
              "      <th>Ano</th>\n",
              "    </tr>\n",
              "  </thead>\n",
              "  <tbody>\n",
              "    <tr>\n",
              "      <th>count</th>\n",
              "      <td>3.000000e+01</td>\n",
              "      <td>30.000000</td>\n",
              "    </tr>\n",
              "    <tr>\n",
              "      <th>mean</th>\n",
              "      <td>6.141962e+07</td>\n",
              "      <td>2019.500000</td>\n",
              "    </tr>\n",
              "    <tr>\n",
              "      <th>std</th>\n",
              "      <td>9.157129e+07</td>\n",
              "      <td>0.508548</td>\n",
              "    </tr>\n",
              "    <tr>\n",
              "      <th>min</th>\n",
              "      <td>5.885520e+02</td>\n",
              "      <td>2019.000000</td>\n",
              "    </tr>\n",
              "    <tr>\n",
              "      <th>25%</th>\n",
              "      <td>8.232001e+06</td>\n",
              "      <td>2019.000000</td>\n",
              "    </tr>\n",
              "    <tr>\n",
              "      <th>50%</th>\n",
              "      <td>3.032773e+07</td>\n",
              "      <td>2019.500000</td>\n",
              "    </tr>\n",
              "    <tr>\n",
              "      <th>75%</th>\n",
              "      <td>4.559869e+07</td>\n",
              "      <td>2020.000000</td>\n",
              "    </tr>\n",
              "    <tr>\n",
              "      <th>max</th>\n",
              "      <td>3.314493e+08</td>\n",
              "      <td>2020.000000</td>\n",
              "    </tr>\n",
              "  </tbody>\n",
              "</table>\n",
              "</div>"
            ],
            "text/plain": [
              "          População          Ano\n",
              "count  3.000000e+01    30.000000\n",
              "mean   6.141962e+07  2019.500000\n",
              "std    9.157129e+07     0.508548\n",
              "min    5.885520e+02  2019.000000\n",
              "25%    8.232001e+06  2019.000000\n",
              "50%    3.032773e+07  2019.500000\n",
              "75%    4.559869e+07  2020.000000\n",
              "max    3.314493e+08  2020.000000"
            ]
          },
          "metadata": {},
          "execution_count": 18
        }
      ]
    },
    {
      "cell_type": "code",
      "metadata": {
        "id": "tCNvQzJq7bZx",
        "colab": {
          "base_uri": "https://localhost:8080/"
        },
        "outputId": "a1a8b2bd-c8e6-4d92-e5ad-2a30ff01fb72"
      },
      "source": [
        "df[\"Continente\"].unique()"
      ],
      "execution_count": null,
      "outputs": [
        {
          "output_type": "execute_result",
          "data": {
            "text/plain": [
              "array(['América do Sul', 'América do Norte'], dtype=object)"
            ]
          },
          "metadata": {},
          "execution_count": 103
        }
      ]
    },
    {
      "cell_type": "code",
      "metadata": {
        "colab": {
          "base_uri": "https://localhost:8080/",
          "height": 204
        },
        "id": "ow5hM8K0losW",
        "outputId": "054fcceb-e79d-4b98-c090-cc463b623cfe"
      },
      "source": [
        "America_do_Norte = df.loc[df[\"Continente\"] == \"América do Norte\"]\n",
        "America_do_Norte.head()"
      ],
      "execution_count": null,
      "outputs": [
        {
          "output_type": "execute_result",
          "data": {
            "text/html": [
              "<div>\n",
              "<style scoped>\n",
              "    .dataframe tbody tr th:only-of-type {\n",
              "        vertical-align: middle;\n",
              "    }\n",
              "\n",
              "    .dataframe tbody tr th {\n",
              "        vertical-align: top;\n",
              "    }\n",
              "\n",
              "    .dataframe thead th {\n",
              "        text-align: right;\n",
              "    }\n",
              "</style>\n",
              "<table border=\"1\" class=\"dataframe\">\n",
              "  <thead>\n",
              "    <tr style=\"text-align: right;\">\n",
              "      <th></th>\n",
              "      <th>Pais</th>\n",
              "      <th>Continente</th>\n",
              "      <th>Idioma</th>\n",
              "      <th>População</th>\n",
              "      <th>Ano</th>\n",
              "    </tr>\n",
              "  </thead>\n",
              "  <tbody>\n",
              "    <tr>\n",
              "      <th>6</th>\n",
              "      <td>Canadá</td>\n",
              "      <td>América do Norte</td>\n",
              "      <td>Inglês/Francês</td>\n",
              "      <td>37,244,181</td>\n",
              "      <td>2019</td>\n",
              "    </tr>\n",
              "    <tr>\n",
              "      <th>7</th>\n",
              "      <td>Canadá</td>\n",
              "      <td>América do Norte</td>\n",
              "      <td>Inglês/Francês</td>\n",
              "      <td>37,577,502</td>\n",
              "      <td>2020</td>\n",
              "    </tr>\n",
              "    <tr>\n",
              "      <th>14</th>\n",
              "      <td>Estados Unidos</td>\n",
              "      <td>América do Norte</td>\n",
              "      <td>Inglês</td>\n",
              "      <td>328,200,000</td>\n",
              "      <td>2019</td>\n",
              "    </tr>\n",
              "    <tr>\n",
              "      <th>15</th>\n",
              "      <td>Estados Unidos</td>\n",
              "      <td>América do Norte</td>\n",
              "      <td>Inglês</td>\n",
              "      <td>331,449,281</td>\n",
              "      <td>2020</td>\n",
              "    </tr>\n",
              "    <tr>\n",
              "      <th>18</th>\n",
              "      <td>México</td>\n",
              "      <td>América do Norte</td>\n",
              "      <td>Espanhol</td>\n",
              "      <td>126,000,000</td>\n",
              "      <td>2019</td>\n",
              "    </tr>\n",
              "  </tbody>\n",
              "</table>\n",
              "</div>"
            ],
            "text/plain": [
              "              Pais        Continente          Idioma    População   Ano\n",
              "6           Canadá  América do Norte  Inglês/Francês   37,244,181  2019\n",
              "7           Canadá  América do Norte  Inglês/Francês   37,577,502  2020\n",
              "14  Estados Unidos  América do Norte          Inglês  328,200,000  2019\n",
              "15  Estados Unidos  América do Norte          Inglês  331,449,281  2020\n",
              "18          México  América do Norte        Espanhol  126,000,000  2019"
            ]
          },
          "metadata": {},
          "execution_count": 104
        }
      ]
    },
    {
      "cell_type": "code",
      "metadata": {
        "colab": {
          "base_uri": "https://localhost:8080/"
        },
        "id": "uLqBPOk2l6jB",
        "outputId": "69e38759-efdf-4583-b942-67eee9c64152"
      },
      "source": [
        "America_do_Norte[\"Continente\"].unique()"
      ],
      "execution_count": null,
      "outputs": [
        {
          "output_type": "execute_result",
          "data": {
            "text/plain": [
              "array(['América do Norte'], dtype=object)"
            ]
          },
          "metadata": {},
          "execution_count": 105
        }
      ]
    },
    {
      "cell_type": "code",
      "metadata": {
        "colab": {
          "base_uri": "https://localhost:8080/"
        },
        "id": "PqVTeBrQmGrQ",
        "outputId": "d1c06d71-0625-46eb-da25-32eb30be4ee6"
      },
      "source": [
        "df.groupby(\"Continente\")[\"Pais\"].nunique()"
      ],
      "execution_count": null,
      "outputs": [
        {
          "output_type": "execute_result",
          "data": {
            "text/plain": [
              "Continente\n",
              "América do Norte     3\n",
              "América do Sul      12\n",
              "Name: Pais, dtype: int64"
            ]
          },
          "metadata": {},
          "execution_count": 88
        }
      ]
    },
    {
      "cell_type": "code",
      "metadata": {
        "colab": {
          "base_uri": "https://localhost:8080/"
        },
        "id": "fgI1sYY0m6PE",
        "outputId": "1975ee1d-c816-46fd-f4e2-d69bbbead689"
      },
      "source": [
        "df.groupby(\"Ano\")[\"População\"].mean()"
      ],
      "execution_count": null,
      "outputs": [
        {
          "output_type": "execute_result",
          "data": {
            "text/plain": [
              "Ano\n",
              "2020    6.150362e+07\n",
              "Name: População, dtype: float64"
            ]
          },
          "metadata": {},
          "execution_count": 27
        }
      ]
    },
    {
      "cell_type": "code",
      "metadata": {
        "colab": {
          "base_uri": "https://localhost:8080/"
        },
        "id": "cAETTvFooPKW",
        "outputId": "f37b99a7-4ef6-47b9-8406-81940476c70a"
      },
      "source": [
        "df[\"População\"].mean()"
      ],
      "execution_count": null,
      "outputs": [
        {
          "output_type": "execute_result",
          "data": {
            "text/plain": [
              "61503620.54026667"
            ]
          },
          "metadata": {},
          "execution_count": 4
        }
      ]
    },
    {
      "cell_type": "code",
      "metadata": {
        "id": "btqldhLYpMed",
        "colab": {
          "base_uri": "https://localhost:8080/"
        },
        "outputId": "46b9f2c0-54c8-4a99-f0f5-56465ea2f5fe"
      },
      "source": [
        "df[\"População\"].sum()"
      ],
      "execution_count": null,
      "outputs": [
        {
          "output_type": "execute_result",
          "data": {
            "text/plain": [
              "922554308.1040001"
            ]
          },
          "metadata": {},
          "execution_count": 5
        }
      ]
    }
  ]
}